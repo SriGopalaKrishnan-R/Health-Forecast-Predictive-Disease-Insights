{
  "cells": [
    {
      "cell_type": "code",
      "execution_count": 2,
      "metadata": {
        "collapsed": true,
        "id": "Qy8R_hCtLESH"
      },
      "outputs": [],
      "source": [
        "\n",
        "import numpy as np\n",
        "\n",
        "\n",
        "from sklearn.naive_bayes import GaussianNB\n",
        "from sklearn import svm\n",
        "from sklearn import linear_model\n",
        "from sklearn.ensemble import RandomForestClassifier\n",
        "\n",
        "from sklearn.model_selection import train_test_split\n",
        "import pandas as pd\n",
        "from sklearn.metrics import classification_report,confusion_matrix\n",
        "from sklearn.tree import DecisionTreeClassifier\n",
        "from sklearn.linear_model import LogisticRegression\n",
        "from sklearn.tree import export_graphviz\n",
        "import matplotlib.pyplot as plt\n",
        "from sklearn.ensemble import RandomForestClassifier\n",
        "\n",
        "from sklearn.metrics import roc_curve,auc\n",
        "\n",
        "%matplotlib inline"
      ]
    },
    {
      "cell_type": "code",
      "source": [
        "from google.colab import drive\n",
        "drive.mount('/content/drive')"
      ],
      "metadata": {
        "colab": {
          "base_uri": "https://localhost:8080/"
        },
        "id": "0jW5J6YKLa-A",
        "outputId": "75092f25-83b6-4686-a4b9-30ab5e206609"
      },
      "execution_count": 1,
      "outputs": [
        {
          "output_type": "stream",
          "name": "stdout",
          "text": [
            "Mounted at /content/drive\n"
          ]
        }
      ]
    },
    {
      "cell_type": "code",
      "execution_count": 4,
      "metadata": {
        "collapsed": true,
        "id": "pFPchthELESN"
      },
      "outputs": [],
      "source": [
        "f1=open(\"/content/drive/My Drive/train_test/meningitis_train.txt\",'r')\n",
        "text=f1.read()\n",
        "\n",
        "f2=open(\"/content/drive/My Drive/train_test/meningitis_test.txt\",'r')\n",
        "text2=f2.read()"
      ]
    },
    {
      "cell_type": "code",
      "execution_count": 5,
      "metadata": {
        "id": "WUEFb2MxLESO"
      },
      "outputs": [],
      "source": [
        "x= text.split('\\n')\n",
        "\n",
        "features=[]\n",
        "labels=[]\n",
        "\n",
        "for a in x:\n",
        "    b=a.split('\\t')\n",
        "    v=[]\n",
        "    lbl=''\n",
        "    for i in range(0,len(b)-1):\n",
        "        if(b[i] == '?'):\n",
        "            v.append(9999)\n",
        "\n",
        "        else:\n",
        "             v.append((float(b[i])))\n",
        "\n",
        "\n",
        "\n",
        "        labels.append(b[len(b)-1])\n",
        "        features.append(v)\n",
        "\n",
        "\n",
        "x= text2.split('\\n')\n",
        "\n",
        "features_t=[]\n",
        "labels_t=[]\n",
        "\n",
        "for a in x:\n",
        "    b=a.split('\\t')\n",
        "    v=[]\n",
        "    lbl=''\n",
        "    for i in range(0,len(b)-1):\n",
        "        if(b[i] == '?'):\n",
        "            v.append(9999)\n",
        "\n",
        "        else:\n",
        "             v.append((int(b[i])))\n",
        "\n",
        "\n",
        "\n",
        "        labels_t.append(b[len(b)-1])\n",
        "        features_t.append(v)\n"
      ]
    },
    {
      "cell_type": "markdown",
      "metadata": {
        "id": "Azg0abLiLESR"
      },
      "source": [
        "# Input Symptoms"
      ]
    },
    {
      "cell_type": "code",
      "execution_count": 6,
      "metadata": {
        "colab": {
          "base_uri": "https://localhost:8080/"
        },
        "id": "TX0Mb2itLEST",
        "outputId": "98eef34e-2879-4320-8a97-84a2212d05b4"
      },
      "outputs": [
        {
          "output_type": "stream",
          "name": "stdout",
          "text": [
            "[[67, 43, 0, 35, 55, 0, 0, 23, 67, 0, 0, 0, 0], [67, 43, 0, 35, 55, 0, 0, 23, 67, 0, 0, 0, 0], [67, 43, 0, 35, 55, 0, 0, 23, 67, 0, 0, 0, 0], [67, 43, 0, 35, 55, 0, 0, 23, 67, 0, 0, 0, 0], [67, 43, 0, 35, 55, 0, 0, 23, 67, 0, 0, 0, 0], [67, 43, 0, 35, 55, 0, 0, 23, 67, 0, 0, 0, 0], [67, 43, 0, 35, 55, 0, 0, 23, 67, 0, 0, 0, 0], [67, 43, 0, 35, 55, 0, 0, 23, 67, 0, 0, 0, 0], [67, 43, 0, 35, 55, 0, 0, 23, 67, 0, 0, 0, 0], [67, 43, 0, 35, 55, 0, 0, 23, 67, 0, 0, 0, 0], [67, 43, 0, 35, 55, 0, 0, 23, 67, 0, 0, 0, 0], [67, 43, 0, 35, 55, 0, 0, 23, 67, 0, 0, 0, 0], [67, 43, 0, 35, 55, 0, 0, 23, 67, 0, 0, 0, 0]]\n"
          ]
        }
      ],
      "source": [
        "print(features_t)"
      ]
    },
    {
      "cell_type": "markdown",
      "metadata": {
        "id": "ll4v_ZsiLESU"
      },
      "source": [
        "# LogisticRegression"
      ]
    },
    {
      "cell_type": "code",
      "execution_count": 7,
      "metadata": {
        "colab": {
          "base_uri": "https://localhost:8080/"
        },
        "id": "IfBDzZgaLESV",
        "outputId": "5b4873bd-6d87-4a22-a3f5-4c12618a716e"
      },
      "outputs": [
        {
          "output_type": "stream",
          "name": "stdout",
          "text": [
            "['1' '1' '1' '1' '1' '1' '1' '1' '1' '1' '1' '1' '1']\n"
          ]
        }
      ],
      "source": [
        "model=LogisticRegression()\n",
        "model.fit(features,labels)#fitting parameters\n",
        "y_pred=model.predict(features_t)\n",
        "print(y_pred)\n",
        "#print(classification_report(labels_t,y_pred))"
      ]
    },
    {
      "cell_type": "markdown",
      "metadata": {
        "id": "18i_jSC0LESW"
      },
      "source": [
        "# Naive Bayes Classifier"
      ]
    },
    {
      "cell_type": "code",
      "execution_count": 8,
      "metadata": {
        "scrolled": true,
        "colab": {
          "base_uri": "https://localhost:8080/"
        },
        "id": "KpD7zrg7LESW",
        "outputId": "63dd1714-6dae-4278-8514-82961a14ff2f"
      },
      "outputs": [
        {
          "output_type": "stream",
          "name": "stdout",
          "text": [
            "['1' '1' '1' '1' '1' '1' '1' '1' '1' '1' '1' '1' '1']\n"
          ]
        }
      ],
      "source": [
        "model=GaussianNB()\n",
        "model.fit(features,labels)#fitting parameters\n",
        "y_pred=model.predict(features_t)\n",
        "print(y_pred)\n",
        "#print(classification_report(labels_t,y_pred))"
      ]
    },
    {
      "cell_type": "markdown",
      "metadata": {
        "id": "pjWiQzH_LESX"
      },
      "source": [
        "# SVM Classifier"
      ]
    },
    {
      "cell_type": "code",
      "execution_count": 9,
      "metadata": {
        "colab": {
          "base_uri": "https://localhost:8080/"
        },
        "id": "67t-U9rbLESY",
        "outputId": "412613c1-cdb7-40c1-ebd2-8097dec834af"
      },
      "outputs": [
        {
          "output_type": "stream",
          "name": "stdout",
          "text": [
            "['1' '1' '1' '1' '1' '1' '1' '1' '1' '1' '1' '1' '1']\n"
          ]
        }
      ],
      "source": [
        "model=svm.SVC()\n",
        "model.fit(features,labels)#fitting parameters\n",
        "y_pred=model.predict(features_t)\n",
        "print(y_pred)"
      ]
    },
    {
      "cell_type": "markdown",
      "metadata": {
        "id": "LhG4Xo2iLESZ"
      },
      "source": [
        "# KNeighbors Classifier"
      ]
    },
    {
      "cell_type": "code",
      "execution_count": 10,
      "metadata": {
        "colab": {
          "base_uri": "https://localhost:8080/"
        },
        "id": "3jYRMxTNLESa",
        "outputId": "fa601ce2-f345-4fc7-d4fa-7017ad7a6620"
      },
      "outputs": [
        {
          "output_type": "stream",
          "name": "stdout",
          "text": [
            "['1' '1' '1' '1' '1' '1' '1' '1' '1' '1' '1' '1' '1']\n"
          ]
        }
      ],
      "source": [
        "from sklearn.neighbors import KNeighborsClassifier\n",
        "\n",
        "neigh = KNeighborsClassifier(n_neighbors=2)\n",
        "neigh.fit(features,labels)\n",
        "\n",
        "pred2=neigh.predict(features_t)\n",
        "print(pred2)"
      ]
    },
    {
      "cell_type": "markdown",
      "metadata": {
        "id": "s7-rUmxpLESb"
      },
      "source": [
        "# Decision Tree Classifier"
      ]
    },
    {
      "cell_type": "code",
      "execution_count": 11,
      "metadata": {
        "colab": {
          "base_uri": "https://localhost:8080/"
        },
        "id": "JZb8c0o5LESb",
        "outputId": "4b57d198-cb40-4d72-e5db-2fb1e56e7c57"
      },
      "outputs": [
        {
          "output_type": "stream",
          "name": "stdout",
          "text": [
            "['1' '1' '1' '1' '1' '1' '1' '1' '1' '1' '1' '1' '1']\n"
          ]
        }
      ],
      "source": [
        "from sklearn.tree import DecisionTreeClassifier\n",
        "\n",
        "clf = DecisionTreeClassifier(random_state=0)\n",
        "clf =clf.fit(features,labels)\n",
        "\n",
        "pred3=clf.predict(features_t)\n",
        "print(pred3)"
      ]
    },
    {
      "cell_type": "markdown",
      "metadata": {
        "id": "zYkCnIK_LESc"
      },
      "source": [
        "# Random Forest Classifier"
      ]
    },
    {
      "cell_type": "code",
      "execution_count": 12,
      "metadata": {
        "colab": {
          "base_uri": "https://localhost:8080/"
        },
        "id": "QuoIxxoTLESc",
        "outputId": "a7a62544-1b29-4abc-c36c-84ac91d6c06c"
      },
      "outputs": [
        {
          "output_type": "stream",
          "name": "stdout",
          "text": [
            "['1' '1' '1' '1' '1' '1' '1' '1' '1' '1' '1' '1' '1']\n"
          ]
        }
      ],
      "source": [
        "model=RandomForestClassifier()\n",
        "model.fit(features,labels)\n",
        "y_pred=model.predict(features_t)\n",
        "print(y_pred)"
      ]
    },
    {
      "cell_type": "code",
      "execution_count": 17,
      "metadata": {
        "collapsed": true,
        "colab": {
          "base_uri": "https://localhost:8080/",
          "height": 1000
        },
        "id": "gxgx6jcwLESd",
        "outputId": "9d3f89db-2a1a-4fbf-85ad-0f7b58c6c32d"
      },
      "outputs": [
        {
          "output_type": "stream",
          "name": "stdout",
          "text": [
            "Drive already mounted at /content/drive; to attempt to forcibly remount, call drive.mount(\"/content/drive\", force_remount=True).\n",
            "[[67, 43, 0, 35, 55, 0, 0, 23, 67, 0, 0, 0, 0], [67, 43, 0, 35, 55, 0, 0, 23, 67, 0, 0, 0, 0], [67, 43, 0, 35, 55, 0, 0, 23, 67, 0, 0, 0, 0], [67, 43, 0, 35, 55, 0, 0, 23, 67, 0, 0, 0, 0], [67, 43, 0, 35, 55, 0, 0, 23, 67, 0, 0, 0, 0], [67, 43, 0, 35, 55, 0, 0, 23, 67, 0, 0, 0, 0], [67, 43, 0, 35, 55, 0, 0, 23, 67, 0, 0, 0, 0], [67, 43, 0, 35, 55, 0, 0, 23, 67, 0, 0, 0, 0], [67, 43, 0, 35, 55, 0, 0, 23, 67, 0, 0, 0, 0], [67, 43, 0, 35, 55, 0, 0, 23, 67, 0, 0, 0, 0], [67, 43, 0, 35, 55, 0, 0, 23, 67, 0, 0, 0, 0], [67, 43, 0, 35, 55, 0, 0, 23, 67, 0, 0, 0, 0], [67, 43, 0, 35, 55, 0, 0, 23, 67, 0, 0, 0, 0]]\n",
            "--- Logistic Regression ---\n",
            "Accuracy: 1.0\n",
            "Confusion Matrix:\n",
            " [[13]]\n",
            "Classification Report:\n",
            "               precision    recall  f1-score   support\n",
            "\n",
            "           1       1.00      1.00      1.00        13\n",
            "\n",
            "    accuracy                           1.00        13\n",
            "   macro avg       1.00      1.00      1.00        13\n",
            "weighted avg       1.00      1.00      1.00        13\n",
            "\n"
          ]
        },
        {
          "output_type": "display_data",
          "data": {
            "text/plain": [
              "<Figure size 640x480 with 1 Axes>"
            ],
            "image/png": "[encoded data removed]"
          },
          "metadata": {}
        },
        {
          "output_type": "stream",
          "name": "stdout",
          "text": [
            "--- Naive Bayes ---\n",
            "Accuracy: 1.0\n",
            "Confusion Matrix:\n",
            " [[13]]\n",
            "Classification Report:\n",
            "               precision    recall  f1-score   support\n",
            "\n",
            "           1       1.00      1.00      1.00        13\n",
            "\n",
            "    accuracy                           1.00        13\n",
            "   macro avg       1.00      1.00      1.00        13\n",
            "weighted avg       1.00      1.00      1.00        13\n",
            "\n"
          ]
        },
        {
          "output_type": "display_data",
          "data": {
            "text/plain": [
              "<Figure size 640x480 with 1 Axes>"
            ],
            "image/png": "[encoded data removed]"
          },
          "metadata": {}
        },
        {
          "output_type": "stream",
          "name": "stdout",
          "text": [
            "--- SVM ---\n",
            "Accuracy: 1.0\n",
            "Confusion Matrix:\n",
            " [[13]]\n",
            "Classification Report:\n",
            "               precision    recall  f1-score   support\n",
            "\n",
            "           1       1.00      1.00      1.00        13\n",
            "\n",
            "    accuracy                           1.00        13\n",
            "   macro avg       1.00      1.00      1.00        13\n",
            "weighted avg       1.00      1.00      1.00        13\n",
            "\n"
          ]
        },
        {
          "output_type": "display_data",
          "data": {
            "text/plain": [
              "<Figure size 640x480 with 1 Axes>"
            ],
            "image/png": "[encoded data removed]"
          },
          "metadata": {}
        },
        {
          "output_type": "stream",
          "name": "stdout",
          "text": [
            "--- KNN ---\n",
            "Accuracy: 1.0\n",
            "Confusion Matrix:\n",
            " [[13]]\n",
            "Classification Report:\n",
            "               precision    recall  f1-score   support\n",
            "\n",
            "           1       1.00      1.00      1.00        13\n",
            "\n",
            "    accuracy                           1.00        13\n",
            "   macro avg       1.00      1.00      1.00        13\n",
            "weighted avg       1.00      1.00      1.00        13\n",
            "\n"
          ]
        },
        {
          "output_type": "display_data",
          "data": {
            "text/plain": [
              "<Figure size 640x480 with 1 Axes>"
            ],
            "image/png": "[encoded data removed]"
          },
          "metadata": {}
        },
        {
          "output_type": "stream",
          "name": "stdout",
          "text": [
            "--- Decision Tree ---\n",
            "Accuracy: 1.0\n",
            "Confusion Matrix:\n",
            " [[13]]\n",
            "Classification Report:\n",
            "               precision    recall  f1-score   support\n",
            "\n",
            "           1       1.00      1.00      1.00        13\n",
            "\n",
            "    accuracy                           1.00        13\n",
            "   macro avg       1.00      1.00      1.00        13\n",
            "weighted avg       1.00      1.00      1.00        13\n",
            "\n"
          ]
        },
        {
          "output_type": "display_data",
          "data": {
            "text/plain": [
              "<Figure size 640x480 with 1 Axes>"
            ],
            "image/png": "[encoded data removed]"
          },
          "metadata": {}
        },
        {
          "output_type": "stream",
          "name": "stdout",
          "text": [
            "--- Random Forest ---\n",
            "Accuracy: 1.0\n",
            "Confusion Matrix:\n",
            " [[13]]\n",
            "Classification Report:\n",
            "               precision    recall  f1-score   support\n",
            "\n",
            "           1       1.00      1.00      1.00        13\n",
            "\n",
            "    accuracy                           1.00        13\n",
            "   macro avg       1.00      1.00      1.00        13\n",
            "weighted avg       1.00      1.00      1.00        13\n",
            "\n"
          ]
        },
        {
          "output_type": "display_data",
          "data": {
            "text/plain": [
              "<Figure size 640x480 with 1 Axes>"
            ],
            "image/png": "[encoded data removed]"
          },
          "metadata": {}
        }
      ],
      "source": [
        "# prompt: give me performance metrics for all these models varying it from 0.9 to 1.0 with confusion matrix with 2x2 matrix and bar chart\n",
        "\n",
        "import numpy as np\n",
        "from sklearn.naive_bayes import GaussianNB\n",
        "from sklearn import svm\n",
        "from sklearn import linear_model\n",
        "from sklearn.ensemble import RandomForestClassifier\n",
        "from sklearn.model_selection import train_test_split\n",
        "import pandas as pd\n",
        "from sklearn.metrics import classification_report,confusion_matrix\n",
        "from sklearn.tree import DecisionTreeClassifier\n",
        "from sklearn.linear_model import LogisticRegression\n",
        "from sklearn.tree import export_graphviz\n",
        "import matplotlib.pyplot as plt\n",
        "from sklearn.metrics import roc_curve,auc\n",
        "from google.colab import drive\n",
        "from sklearn.neighbors import KNeighborsClassifier\n",
        "from sklearn.metrics import accuracy_score\n",
        "\n",
        "\n",
        "\n",
        "\n",
        "\n",
        "\n",
        "%matplotlib inline\n",
        "drive.mount('/content/drive')\n",
        "f1=open(\"/content/drive/My Drive/train_test/meningitis_train.txt\",'r')\n",
        "text=f1.read()\n",
        "\n",
        "f2=open(\"/content/drive/My Drive/train_test/meningitis_test.txt\",'r')\n",
        "text2=f2.read()\n",
        "x= text.split('\\n')\n",
        "\n",
        "features=[]\n",
        "labels=[]\n",
        "\n",
        "for a in x:\n",
        "    b=a.split('\\t')\n",
        "    v=[]\n",
        "    lbl=''\n",
        "    for i in range(0,len(b)-1):\n",
        "        if(b[i] == '?'):\n",
        "            v.append(9999)\n",
        "\n",
        "        else:\n",
        "             v.append((float(b[i])))\n",
        "\n",
        "\n",
        "\n",
        "        labels.append(b[len(b)-1])\n",
        "        features.append(v)\n",
        "\n",
        "\n",
        "x= text2.split('\\n')\n",
        "\n",
        "features_t=[]\n",
        "labels_t=[]\n",
        "\n",
        "for a in x:\n",
        "    b=a.split('\\t')\n",
        "    v=[]\n",
        "    lbl=''\n",
        "    for i in range(0,len(b)-1):\n",
        "        if(b[i] == '?'):\n",
        "            v.append(9999)\n",
        "\n",
        "        else:\n",
        "             v.append((int(b[i])))\n",
        "\n",
        "\n",
        "\n",
        "        labels_t.append(b[len(b)-1])\n",
        "        features_t.append(v)\n",
        "\n",
        "# # Input Symptoms\n",
        "print(features_t)\n",
        "\n",
        "# Define models\n",
        "models = [\n",
        "    ('Logistic Regression', LogisticRegression()),\n",
        "    ('Naive Bayes', GaussianNB()),\n",
        "    ('SVM', svm.SVC()),\n",
        "    ('KNN', KNeighborsClassifier(n_neighbors=2)),\n",
        "    ('Decision Tree', DecisionTreeClassifier(random_state=0)),\n",
        "    ('Random Forest', RandomForestClassifier())\n",
        "]\n",
        "\n",
        "# Evaluate each model\n",
        "for name, model in models:\n",
        "    model.fit(features, labels)\n",
        "    y_pred = model.predict(features_t)\n",
        "\n",
        "    # Performance Metrics\n",
        "    accuracy = accuracy_score(labels_t, y_pred)\n",
        "    conf_matrix = confusion_matrix(labels_t, y_pred)\n",
        "    report = classification_report(labels_t, y_pred)\n",
        "\n",
        "    # Print results\n",
        "    print(f\"--- {name} ---\")\n",
        "    print(\"Accuracy:\", accuracy)\n",
        "    print(\"Confusion Matrix:\\n\", conf_matrix)\n",
        "    print(\"Classification Report:\\n\", report)\n",
        "\n",
        "    # Bar chart for accuracy\n",
        "    plt.figure()\n",
        "    plt.bar(['Accuracy'], [accuracy])\n",
        "    plt.ylim(0.9, 1.0)\n",
        "    plt.title(f'{name} Accuracy')\n",
        "    plt.show()\n"
      ]
    }
  ],
  "metadata": {
    "anaconda-cloud": {},
    "kernelspec": {
      "display_name": "Python [default]",
      "language": "python",
      "name": "python3"
    },
    "language_info": {
      "codemirror_mode": {
        "name": "ipython",
        "version": 3
      },
      "file_extension": ".py",
      "mimetype": "text/x-python",
      "name": "python",
      "nbconvert_exporter": "python",
      "pygments_lexer": "ipython3",
      "version": "3.5.2"
    },
    "colab": {
      "provenance": []
    }
  },
  "nbformat": 4,
  "nbformat_minor": 0
}