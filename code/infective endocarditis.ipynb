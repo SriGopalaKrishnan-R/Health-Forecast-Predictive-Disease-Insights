{
 "cells": [
  {
   "cell_type": "code",
   "execution_count": 1,
   "metadata": {
    "collapsed": true
   },
   "outputs": [],
   "source": [
    "\n",
    "import numpy as np\n",
    "\n",
    "\n",
    "from sklearn.naive_bayes import GaussianNB\n",
    "from sklearn import svm\n",
    "from sklearn import linear_model\n",
    "from sklearn.ensemble import RandomForestClassifier\n",
    "\n",
    "from sklearn.cross_validation import train_test_split\n",
    "import pandas as pd\n",
    "from sklearn.metrics import classification_report,confusion_matrix\n",
    "from sklearn.tree import DecisionTreeClassifier\n",
    "from sklearn.linear_model import LogisticRegression\n",
    "from sklearn.tree import export_graphviz\n",
    "import matplotlib.pyplot as plt\n",
    "from sklearn.ensemble import RandomForestClassifier\n",
    "\n",
    "from sklearn.metrics import roc_curve,auc\n",
    "\n",
    "%matplotlib inline"
   ]
  },
  {
   "cell_type": "code",
   "execution_count": 2,
   "metadata": {
    "collapsed": true
   },
   "outputs": [],
   "source": [
    "f1=open(\"Machine_learning/train_test/infective endocarditis.txt\",'r')\n",
    "text=f1.read()\n",
    "\n",
    "f2=open(\"Machine_learning/train_test/malaria_test.txt\",'r')\n",
    "text2=f2.read()"
   ]
  },
  {
   "cell_type": "code",
   "execution_count": 3,
   "metadata": {
    "collapsed": true
   },
   "outputs": [],
   "source": [
    "x= text.split('\\n')\n",
    "\n",
    "features=[]\n",
    "labels=[]\n",
    "\n",
    "for a in x:\n",
    "    b=a.split('\\t')\n",
    "    v=[]\n",
    "    lbl=''\n",
    "    for i in range(0,len(b)-1):\n",
    "        if(b[i] == '?'):\n",
    "            v.append(9999)\n",
    "             \n",
    "        else:\n",
    "             v.append((float(b[i])))\n",
    "           \n",
    "           \n",
    "\n",
    "        labels.append(b[len(b)-1])\n",
    "        features.append(v)\n",
    "    \n",
    "\n",
    "x= text2.split('\\n')\n",
    "\n",
    "features_t=[]\n",
    "labels_t=[]\n",
    "                     \n",
    "for a in x:\n",
    "    b=a.split('\\t')\n",
    "    v=[]\n",
    "    lbl=''\n",
    "    for i in range(0,len(b)-1):\n",
    "        if(b[i] == '?'):\n",
    "            v.append(9999)\n",
    "             \n",
    "        else:\n",
    "             v.append((int(b[i])))\n",
    "           \n",
    "           \n",
    "\n",
    "        labels_t.append(b[len(b)-1])\n",
    "        features_t.append(v)                     \n"
   ]
  },
  {
   "cell_type": "markdown",
   "metadata": {},
   "source": [
    "# Input Symptoms"
   ]
  },
  {
   "cell_type": "code",
   "execution_count": 4,
   "metadata": {
    "collapsed": false
   },
   "outputs": [
    {
     "name": "stdout",
     "output_type": "stream",
     "text": [
      "[[65, 0, 75, 20, 23, 10, 35, 0, 0, 0, 0], [65, 0, 75, 20, 23, 10, 35, 0, 0, 0, 0], [65, 0, 75, 20, 23, 10, 35, 0, 0, 0, 0], [65, 0, 75, 20, 23, 10, 35, 0, 0, 0, 0], [65, 0, 75, 20, 23, 10, 35, 0, 0, 0, 0], [65, 0, 75, 20, 23, 10, 35, 0, 0, 0, 0], [65, 0, 75, 20, 23, 10, 35, 0, 0, 0, 0], [65, 0, 75, 20, 23, 10, 35, 0, 0, 0, 0], [65, 0, 75, 20, 23, 10, 35, 0, 0, 0, 0], [65, 0, 75, 20, 23, 10, 35, 0, 0, 0, 0], [65, 0, 75, 20, 23, 10, 35, 0, 0, 0, 0]]\n"
     ]
    }
   ],
   "source": [
    "print(features_t)"
   ]
  },
  {
   "cell_type": "markdown",
   "metadata": {},
   "source": [
    "# LogisticRegression"
   ]
  },
  {
   "cell_type": "code",
   "execution_count": 5,
   "metadata": {
    "collapsed": false
   },
   "outputs": [
    {
     "name": "stdout",
     "output_type": "stream",
     "text": [
      "['1' '1' '1' '1' '1' '1' '1' '1' '1' '1' '1']\n"
     ]
    }
   ],
   "source": [
    "model=LogisticRegression()\n",
    "model.fit(features,labels)#fitting parameters\n",
    "y_pred=model.predict(features_t)\n",
    "print(y_pred)\n",
    "#print(classification_report(labels_t,y_pred))"
   ]
  },
  {
   "cell_type": "markdown",
   "metadata": {},
   "source": [
    "# Naive Bayes Classifier"
   ]
  },
  {
   "cell_type": "code",
   "execution_count": 6,
   "metadata": {
    "collapsed": false,
    "scrolled": true
   },
   "outputs": [
    {
     "name": "stdout",
     "output_type": "stream",
     "text": [
      "['1' '1' '1' '1' '1' '1' '1' '1' '1' '1' '1']\n"
     ]
    }
   ],
   "source": [
    "model=GaussianNB()\n",
    "model.fit(features,labels)#fitting parameters\n",
    "y_pred=model.predict(features_t)\n",
    "print(y_pred)\n",
    "#print(classification_report(labels_t,y_pred))"
   ]
  },
  {
   "cell_type": "markdown",
   "metadata": {},
   "source": [
    "# SVM Classifier"
   ]
  },
  {
   "cell_type": "code",
   "execution_count": 7,
   "metadata": {
    "collapsed": false
   },
   "outputs": [
    {
     "name": "stdout",
     "output_type": "stream",
     "text": [
      "['1' '1' '1' '1' '1' '1' '1' '1' '1' '1' '1']\n"
     ]
    }
   ],
   "source": [
    "model=svm.SVC()\n",
    "model.fit(features,labels)#fitting parameters\n",
    "y_pred=model.predict(features_t)\n",
    "print(y_pred)"
   ]
  },
  {
   "cell_type": "markdown",
   "metadata": {},
   "source": [
    "# KNeighbors Classifier"
   ]
  },
  {
   "cell_type": "code",
   "execution_count": 9,
   "metadata": {
    "collapsed": false
   },
   "outputs": [
    {
     "name": "stdout",
     "output_type": "stream",
     "text": [
      "['1' '1' '1' '1' '1' '1' '1' '1' '1' '1' '1']\n"
     ]
    }
   ],
   "source": [
    "from sklearn.neighbors import KNeighborsClassifier\n",
    "\n",
    "neigh = KNeighborsClassifier(n_neighbors=2)\n",
    "neigh.fit(features,labels)\n",
    "\n",
    "pred2=neigh.predict(features_t)\n",
    "print(pred2)"
   ]
  },
  {
   "cell_type": "markdown",
   "metadata": {},
   "source": [
    "# Decision Tree Classifier"
   ]
  },
  {
   "cell_type": "code",
   "execution_count": 10,
   "metadata": {
    "collapsed": false
   },
   "outputs": [
    {
     "name": "stdout",
     "output_type": "stream",
     "text": [
      "['1' '1' '1' '1' '1' '1' '1' '1' '1' '1' '1']\n"
     ]
    }
   ],
   "source": [
    "from sklearn.tree import DecisionTreeClassifier\n",
    "\n",
    "clf = DecisionTreeClassifier(random_state=0)\n",
    "clf =clf.fit(features,labels)\n",
    "\n",
    "pred3=clf.predict(features_t)\n",
    "print(pred3)"
   ]
  },
  {
   "cell_type": "markdown",
   "metadata": {},
   "source": [
    "# Random Forest Classifier"
   ]
  },
  {
   "cell_type": "code",
   "execution_count": null,
   "metadata": {
    "collapsed": false
   },
   "outputs": [],
   "source": [
    "model=RandomForestClassifier()\n",
    "model.fit(features,labels)\n",
    "y_pred=model.predict(features_t)\n",
    "print(y_pred)"
   ]
  },
  {
   "cell_type": "code",
   "execution_count": null,
   "metadata": {
    "collapsed": true
   },
   "outputs": [],
   "source": []
  },
  {
   "cell_type": "code",
   "execution_count": null,
   "metadata": {
    "collapsed": true
   },
   "outputs": [],
   "source": []
  },
  {
   "cell_type": "code",
   "execution_count": null,
   "metadata": {
    "collapsed": true
   },
   "outputs": [],
   "source": []
  },
  {
   "cell_type": "code",
   "execution_count": null,
   "metadata": {
    "collapsed": true
   },
   "outputs": [],
   "source": []
  },
  {
   "cell_type": "code",
   "execution_count": null,
   "metadata": {
    "collapsed": true
   },
   "outputs": [],
   "source": []
  }
 ],
 "metadata": {
  "anaconda-cloud": {},
  "kernelspec": {
   "display_name": "Python [default]",
   "language": "python",
   "name": "python3"
  },
  "language_info": {
   "codemirror_mode": {
    "name": "ipython",
    "version": 3
   },
   "file_extension": ".py",
   "mimetype": "text/x-python",
   "name": "python",
   "nbconvert_exporter": "python",
   "pygments_lexer": "ipython3",
   "version": "3.5.2"
  }
 },
 "nbformat": 4,
 "nbformat_minor": 1
}
