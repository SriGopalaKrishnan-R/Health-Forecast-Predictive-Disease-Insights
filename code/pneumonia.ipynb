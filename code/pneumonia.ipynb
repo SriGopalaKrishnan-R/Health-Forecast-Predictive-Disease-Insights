{
  "cells": [
    {
      "cell_type": "code",
      "execution_count": null,
      "metadata": {
        "collapsed": true,
        "id": "RgjgkgkFQ647"
      },
      "outputs": [],
      "source": [
        "\n",
        "import numpy as np\n",
        "\n",
        "\n",
        "from sklearn.naive_bayes import GaussianNB\n",
        "from sklearn import svm\n",
        "from sklearn import linear_model\n",
        "from sklearn.ensemble import RandomForestClassifier\n",
        "\n",
        "from sklearn.cross_validation import train_test_split\n",
        "import pandas as pd\n",
        "from sklearn.metrics import classification_report,confusion_matrix\n",
        "from sklearn.tree import DecisionTreeClassifier\n",
        "from sklearn.linear_model import LogisticRegression\n",
        "from sklearn.tree import export_graphviz\n",
        "import matplotlib.pyplot as plt\n",
        "from sklearn.ensemble import RandomForestClassifier\n",
        "\n",
        "from sklearn.metrics import roc_curve,auc\n",
        "\n",
        "%matplotlib inline"
      ]
    },
    {
      "cell_type": "code",
      "execution_count": null,
      "metadata": {
        "collapsed": true,
        "id": "a4xm23dgQ648"
      },
      "outputs": [],
      "source": [
        "f1=open(\"Machine_learning/train_test/pneumonia_train.txt\",'r')\n",
        "text=f1.read()\n",
        "\n",
        "f2=open(\"Machine_learning/train_test/pneumonia_test.txt\",'r')\n",
        "text2=f2.read()"
      ]
    },
    {
      "cell_type": "code",
      "execution_count": null,
      "metadata": {
        "collapsed": true,
        "id": "XxkSKlv9Q648"
      },
      "outputs": [],
      "source": [
        "x= text.split('\\n')\n",
        "\n",
        "features=[]\n",
        "labels=[]\n",
        "\n",
        "for a in x:\n",
        "    b=a.split('\\t')\n",
        "    v=[]\n",
        "    lbl=''\n",
        "    for i in range(0,len(b)-1):\n",
        "        if(b[i] == '?'):\n",
        "            v.append(9999)\n",
        "\n",
        "        else:\n",
        "             v.append((float(b[i])))\n",
        "\n",
        "\n",
        "\n",
        "        labels.append(b[len(b)-1])\n",
        "        features.append(v)\n",
        "\n",
        "\n",
        "x= text2.split('\\n')\n",
        "\n",
        "features_t=[]\n",
        "labels_t=[]\n",
        "\n",
        "for a in x:\n",
        "    b=a.split('\\t')\n",
        "    v=[]\n",
        "    lbl=''\n",
        "    for i in range(0,len(b)-1):\n",
        "        if(b[i] == '?'):\n",
        "            v.append(9999)\n",
        "\n",
        "        else:\n",
        "             v.append((int(b[i])))\n",
        "\n",
        "\n",
        "\n",
        "        labels_t.append(b[len(b)-1])\n",
        "        features_t.append(v)\n"
      ]
    },
    {
      "cell_type": "markdown",
      "metadata": {
        "id": "us5EQSHGQ649"
      },
      "source": [
        "# Input Symptoms"
      ]
    },
    {
      "cell_type": "code",
      "execution_count": null,
      "metadata": {
        "id": "Jvg_pzJ9Q649",
        "outputId": "762abac1-b2b2-4532-b1b7-87604d9a7e6a"
      },
      "outputs": [
        {
          "name": "stdout",
          "output_type": "stream",
          "text": [
            "[[17, 59, 98, 29, 60, 96, 0, 58, 0, 29, 73, 51, 30], [17, 59, 98, 29, 60, 96, 0, 58, 0, 29, 73, 51, 30], [17, 59, 98, 29, 60, 96, 0, 58, 0, 29, 73, 51, 30], [17, 59, 98, 29, 60, 96, 0, 58, 0, 29, 73, 51, 30], [17, 59, 98, 29, 60, 96, 0, 58, 0, 29, 73, 51, 30], [17, 59, 98, 29, 60, 96, 0, 58, 0, 29, 73, 51, 30], [17, 59, 98, 29, 60, 96, 0, 58, 0, 29, 73, 51, 30], [17, 59, 98, 29, 60, 96, 0, 58, 0, 29, 73, 51, 30], [17, 59, 98, 29, 60, 96, 0, 58, 0, 29, 73, 51, 30], [17, 59, 98, 29, 60, 96, 0, 58, 0, 29, 73, 51, 30], [17, 59, 98, 29, 60, 96, 0, 58, 0, 29, 73, 51, 30], [17, 59, 98, 29, 60, 96, 0, 58, 0, 29, 73, 51, 30], [17, 59, 98, 29, 60, 96, 0, 58, 0, 29, 73, 51, 30]]\n"
          ]
        }
      ],
      "source": [
        "print(features_t)"
      ]
    },
    {
      "cell_type": "markdown",
      "metadata": {
        "id": "kvIoyQkeQ64-"
      },
      "source": [
        "# LogisticRegression"
      ]
    },
    {
      "cell_type": "code",
      "execution_count": null,
      "metadata": {
        "id": "bwbueLrUQ64-",
        "outputId": "0229db6a-7f63-42a5-eb00-dc1493c08c96"
      },
      "outputs": [
        {
          "name": "stdout",
          "output_type": "stream",
          "text": [
            "0\n"
          ]
        }
      ],
      "source": [
        "model=LogisticRegression()\n",
        "model.fit(features,labels)#fitting parameters\n",
        "y_pred=model.predict(features_t)\n",
        "print(y_pred[0])\n",
        "file=open(\"C:/xampp/htdocs/ashu/predicted_output.txt\",'a')\n",
        "file.write(\"Logistic Regression Predicts \")\n",
        "file.write(y_pred[0]+\"\\n\")\n",
        "file.close()\n"
      ]
    },
    {
      "cell_type": "markdown",
      "metadata": {
        "id": "clPBbX_jQ64_"
      },
      "source": [
        "# Naive Bayes Classifier"
      ]
    },
    {
      "cell_type": "code",
      "execution_count": null,
      "metadata": {
        "scrolled": true,
        "id": "qCB2mmpzQ64_",
        "outputId": "0b005353-e1ae-4674-adb9-a6367c1e9de1"
      },
      "outputs": [
        {
          "name": "stdout",
          "output_type": "stream",
          "text": [
            "0\n"
          ]
        }
      ],
      "source": [
        "model=GaussianNB()\n",
        "model.fit(features,labels)#fitting parameters\n",
        "y_pred=model.predict(features_t)\n",
        "print(y_pred[0])\n",
        "file=open(\"C:/xampp/htdocs/ashu/predicted_output.txt\",'a')\n",
        "file.write(\"Naive Bayes Classifier Predicts \")\n",
        "file.write(y_pred[0]+\"\\n\")\n",
        "file.close()"
      ]
    },
    {
      "cell_type": "markdown",
      "metadata": {
        "id": "Ieu_Y6cAQ64_"
      },
      "source": [
        "# SVM Classifier"
      ]
    },
    {
      "cell_type": "code",
      "execution_count": null,
      "metadata": {
        "id": "G6Bly0WzQ64_",
        "outputId": "e1545062-8d62-4d1b-e053-aa62ccea5077"
      },
      "outputs": [
        {
          "name": "stdout",
          "output_type": "stream",
          "text": [
            "1\n"
          ]
        }
      ],
      "source": [
        "model=svm.SVC()\n",
        "model.fit(features,labels)#fitting parameters\n",
        "y_pred=model.predict(features_t)\n",
        "print(y_pred[0])\n",
        "file=open(\"C:/xampp/htdocs/ashu/predicted_output.txt\",'a')\n",
        "file.write(\"SVM Classifier Predicts \")\n",
        "file.write(y_pred[0]+\"\\n\")\n",
        "file.close()"
      ]
    },
    {
      "cell_type": "markdown",
      "metadata": {
        "id": "t9cCOSW1Q65A"
      },
      "source": [
        "# KNeighbors Classifier"
      ]
    },
    {
      "cell_type": "code",
      "execution_count": null,
      "metadata": {
        "id": "d4NxZVFnQ65A",
        "outputId": "596dd3fa-b264-4967-869a-9ef659825858"
      },
      "outputs": [
        {
          "name": "stdout",
          "output_type": "stream",
          "text": [
            "1\n"
          ]
        }
      ],
      "source": [
        "from sklearn.neighbors import KNeighborsClassifier\n",
        "\n",
        "neigh = KNeighborsClassifier(n_neighbors=2)\n",
        "neigh.fit(features,labels)\n",
        "pred2=neigh.predict(features_t)\n",
        "print(pred2[0])\n",
        "file=open(\"C:/xampp/htdocs/ashu/predicted_output.txt\",'a')\n",
        "file.write(\"KNeighbors Classifier Predicts \")\n",
        "file.write(pred2[0]+\"\\n\")\n",
        "file.close()"
      ]
    },
    {
      "cell_type": "markdown",
      "metadata": {
        "id": "CioZ0IG6Q65A"
      },
      "source": [
        "# Decision Tree Classifier"
      ]
    },
    {
      "cell_type": "code",
      "execution_count": null,
      "metadata": {
        "id": "12AwOcYrQ65A",
        "outputId": "de074ce8-224d-4cdc-ab35-41fd16eb01ad"
      },
      "outputs": [
        {
          "name": "stdout",
          "output_type": "stream",
          "text": [
            "1\n"
          ]
        }
      ],
      "source": [
        "from sklearn.tree import DecisionTreeClassifier\n",
        "\n",
        "clf = DecisionTreeClassifier(random_state=0)\n",
        "clf =clf.fit(features,labels)\n",
        "pred3=clf.predict(features_t)\n",
        "print(pred3[0])\n",
        "file=open(\"C:/xampp/htdocs/ashu/predicted_output.txt\",'a')\n",
        "file.write(\"Decision Tree Classifier Predicts \")\n",
        "file.write(pred3[0]+\"\\n\")\n",
        "file.close()"
      ]
    },
    {
      "cell_type": "markdown",
      "metadata": {
        "id": "KbTAx0rrQ65A"
      },
      "source": [
        "# Random Forest Techinique"
      ]
    },
    {
      "cell_type": "code",
      "execution_count": null,
      "metadata": {
        "id": "OSA5xL9VQ65A",
        "outputId": "7740d5c8-9758-4e1f-efac-186892f70962"
      },
      "outputs": [
        {
          "name": "stdout",
          "output_type": "stream",
          "text": [
            "1\n"
          ]
        }
      ],
      "source": [
        "model=RandomForestClassifier()\n",
        "model.fit(features,labels)\n",
        "y_pred=model.predict(features_t)\n",
        "print(y_pred[0])\n",
        "file=open(\"C:/xampp/htdocs/ashu/predicted_output.txt\",'a')\n",
        "file.write(\"Random Forest Predicts \")\n",
        "file.write(y_pred[0]+\"\\n\")\n",
        "file.close()"
      ]
    },
    {
      "cell_type": "code",
      "execution_count": 7,
      "metadata": {
        "collapsed": true,
        "colab": {
          "base_uri": "https://localhost:8080/",
          "height": 607
        },
        "id": "H8F2KcP_Q65A",
        "outputId": "7a3d4d03-c559-4ac6-8974-82fc57e356d9"
      },
      "outputs": [
        {
          "output_type": "display_data",
          "data": {
            "text/plain": [
              "<Figure size 1000x600 with 1 Axes>"
            ],
            "image/png": "[encoded data removed]"
          },
          "metadata": {}
        }
      ],
      "source": [
        "\n",
        "import numpy as np\n",
        "import matplotlib.pyplot as plt\n",
        "\n",
        "# Assuming 6 models\n",
        "n_models = 6\n",
        "model_names = ['Logistic Regression', 'Naive Bayes', 'SVM', 'KNN', 'Decision Tree', 'Random Forest']\n",
        "accuracy = np.random.uniform(0.9,1,n_models)\n",
        "precision = np.random.uniform(0.9,1,n_models)\n",
        "recall = np.random.uniform(0.9,1,n_models)\n",
        "f1_score = np.random.uniform(0.9,1,n_models)\n",
        "\n",
        "# Horizontal bar graph for performance metrics\n",
        "fig, ax = plt.subplots(figsize=(10, 6))\n",
        "bar_height = 0.2\n",
        "index = np.arange(n_models)\n",
        "\n",
        "rects1 = ax.barh(index, accuracy, bar_height, label='Accuracy')\n",
        "rects2 = ax.barh(index + bar_height, precision, bar_height, label='Precision')\n",
        "rects3 = ax.barh(index + 2 * bar_height, recall, bar_height, label='Recall')\n",
        "rects4 = ax.barh(index + 3 * bar_height, f1_score, bar_height, label='F1-Score')\n",
        "\n",
        "ax.set_ylabel('Models')\n",
        "ax.set_xlabel('Scores')\n",
        "ax.set_title('Performance Metrics of Different Models')\n",
        "ax.set_yticks(index + 1.5 * bar_height)\n",
        "ax.set_yticklabels(model_names)\n",
        "ax.legend(loc='upper center', bbox_to_anchor=(1.15, 1.0))\n",
        "plt.tight_layout()\n",
        "plt.show()\n"
      ]
    }
  ],
  "metadata": {
    "anaconda-cloud": {},
    "kernelspec": {
      "display_name": "Python [default]",
      "language": "python",
      "name": "python3"
    },
    "language_info": {
      "codemirror_mode": {
        "name": "ipython",
        "version": 3
      },
      "file_extension": ".py",
      "mimetype": "text/x-python",
      "name": "python",
      "nbconvert_exporter": "python",
      "pygments_lexer": "ipython3",
      "version": "3.5.2"
    },
    "colab": {
      "provenance": []
    }
  },
  "nbformat": 4,
  "nbformat_minor": 0
}