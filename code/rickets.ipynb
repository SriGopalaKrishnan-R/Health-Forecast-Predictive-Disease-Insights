{
  "cells": [
    {
      "cell_type": "code",
      "execution_count": 1,
      "metadata": {
        "collapsed": true,
        "id": "vZQc24KlUVCr"
      },
      "outputs": [],
      "source": [
        "\n",
        "import numpy as np\n",
        "\n",
        "\n",
        "from sklearn.naive_bayes import GaussianNB\n",
        "from sklearn import svm\n",
        "from sklearn import linear_model\n",
        "from sklearn.ensemble import RandomForestClassifier\n",
        "\n",
        "from sklearn.model_selection import train_test_split\n",
        "import pandas as pd\n",
        "from sklearn.metrics import classification_report,confusion_matrix\n",
        "from sklearn.tree import DecisionTreeClassifier\n",
        "from sklearn.linear_model import LogisticRegression\n",
        "from sklearn.tree import export_graphviz\n",
        "import matplotlib.pyplot as plt\n",
        "from sklearn.ensemble import RandomForestClassifier\n",
        "\n",
        "from sklearn.metrics import roc_curve,auc\n",
        "\n",
        "%matplotlib inline"
      ]
    },
    {
      "cell_type": "code",
      "source": [
        "from google.colab import drive\n",
        "drive.mount('/content/drive')"
      ],
      "metadata": {
        "colab": {
          "base_uri": "https://localhost:8080/"
        },
        "id": "QdEbOAy9Uhif",
        "outputId": "ca7c9804-3cbf-4b9f-d692-a02518aabc0b"
      },
      "execution_count": 2,
      "outputs": [
        {
          "output_type": "stream",
          "name": "stdout",
          "text": [
            "Mounted at /content/drive\n"
          ]
        }
      ]
    },
    {
      "cell_type": "code",
      "execution_count": 3,
      "metadata": {
        "collapsed": true,
        "id": "XyrGpd0vUVCs"
      },
      "outputs": [],
      "source": [
        "f1=open(\"/content/drive/My Drive/train_test/rickets_train.txt\",'r')\n",
        "text=f1.read()\n",
        "\n",
        "f2=open(\"/content/drive/My Drive/train_test/rickets_test.txt\",'r')\n",
        "text2=f2.read()"
      ]
    },
    {
      "cell_type": "code",
      "execution_count": 4,
      "metadata": {
        "collapsed": true,
        "id": "5knRrmKoUVCt"
      },
      "outputs": [],
      "source": [
        "x= text.split('\\n')\n",
        "\n",
        "features=[]\n",
        "labels=[]\n",
        "\n",
        "for a in x:\n",
        "    b=a.split('\\t')\n",
        "    v=[]\n",
        "    lbl=''\n",
        "    for i in range(0,len(b)-1):\n",
        "        if(b[i] == '?'):\n",
        "            v.append(9999)\n",
        "\n",
        "        else:\n",
        "             v.append((float(b[i])))\n",
        "\n",
        "\n",
        "\n",
        "        labels.append(b[len(b)-1])\n",
        "        features.append(v)\n",
        "\n",
        "\n",
        "x= text2.split('\\n')\n",
        "\n",
        "features_t=[]\n",
        "labels_t=[]\n",
        "\n",
        "for a in x:\n",
        "    b=a.split('\\t')\n",
        "    v=[]\n",
        "    lbl=''\n",
        "    for i in range(0,len(b)-1):\n",
        "        if(b[i] == '?'):\n",
        "            v.append(9999)\n",
        "\n",
        "        else:\n",
        "             v.append((int(b[i])))\n",
        "\n",
        "\n",
        "\n",
        "        labels_t.append(b[len(b)-1])\n",
        "        features_t.append(v)\n"
      ]
    },
    {
      "cell_type": "markdown",
      "metadata": {
        "id": "G4ZTUnkyUVCt"
      },
      "source": [
        "# Input Symptoms"
      ]
    },
    {
      "cell_type": "code",
      "execution_count": 5,
      "metadata": {
        "colab": {
          "base_uri": "https://localhost:8080/"
        },
        "id": "LAdPknR7UVCt",
        "outputId": "ab7c2735-ff6e-4f0d-927e-5f008519922e"
      },
      "outputs": [
        {
          "output_type": "stream",
          "name": "stdout",
          "text": [
            "[[1, 65, 14, 70, 35, 0, 14, 0, 0, 20, 4], [1, 65, 14, 70, 35, 0, 14, 0, 0, 20, 4], [1, 65, 14, 70, 35, 0, 14, 0, 0, 20, 4], [1, 65, 14, 70, 35, 0, 14, 0, 0, 20, 4], [1, 65, 14, 70, 35, 0, 14, 0, 0, 20, 4], [1, 65, 14, 70, 35, 0, 14, 0, 0, 20, 4], [1, 65, 14, 70, 35, 0, 14, 0, 0, 20, 4], [1, 65, 14, 70, 35, 0, 14, 0, 0, 20, 4], [1, 65, 14, 70, 35, 0, 14, 0, 0, 20, 4], [1, 65, 14, 70, 35, 0, 14, 0, 0, 20, 4], [1, 65, 14, 70, 35, 0, 14, 0, 0, 20, 4]]\n"
          ]
        }
      ],
      "source": [
        "print(features_t)"
      ]
    },
    {
      "cell_type": "markdown",
      "metadata": {
        "id": "o1Zj6fOyUVCu"
      },
      "source": [
        "# LogisticRegression"
      ]
    },
    {
      "cell_type": "code",
      "execution_count": 6,
      "metadata": {
        "colab": {
          "base_uri": "https://localhost:8080/"
        },
        "id": "mEvfm0tUUVCu",
        "outputId": "61bab9b0-834f-4a45-a0bf-63a23f11686f"
      },
      "outputs": [
        {
          "output_type": "stream",
          "name": "stdout",
          "text": [
            "1\n"
          ]
        }
      ],
      "source": [
        "model=LogisticRegression()\n",
        "model.fit(features,labels)#fitting parameters\n",
        "y_pred=model.predict(features_t)\n",
        "print(y_pred[0])\n",
        "#print(classification_report(labels_t,y_pred))"
      ]
    },
    {
      "cell_type": "markdown",
      "metadata": {
        "id": "B_VU5BjIUVCv"
      },
      "source": [
        "# Naive Bayes Classifier"
      ]
    },
    {
      "cell_type": "code",
      "execution_count": 7,
      "metadata": {
        "scrolled": true,
        "colab": {
          "base_uri": "https://localhost:8080/"
        },
        "id": "xZo9gA9-UVCv",
        "outputId": "d3990790-5fb9-48d8-d90e-9773c64a8441"
      },
      "outputs": [
        {
          "output_type": "stream",
          "name": "stdout",
          "text": [
            "1\n"
          ]
        }
      ],
      "source": [
        "model=GaussianNB()\n",
        "model.fit(features,labels)#fitting parameters\n",
        "y_pred=model.predict(features_t)\n",
        "print(y_pred[0])\n",
        "#print(classification_report(labels_t,y_pred))"
      ]
    },
    {
      "cell_type": "markdown",
      "metadata": {
        "id": "fm4XnjioUVCv"
      },
      "source": [
        "# SVM Classifier"
      ]
    },
    {
      "cell_type": "code",
      "execution_count": 8,
      "metadata": {
        "colab": {
          "base_uri": "https://localhost:8080/"
        },
        "id": "pxdf_iezUVCv",
        "outputId": "5c06272d-5a56-4b61-c5ff-9752af72b50b"
      },
      "outputs": [
        {
          "output_type": "stream",
          "name": "stdout",
          "text": [
            "1\n"
          ]
        }
      ],
      "source": [
        "model=svm.SVC()\n",
        "model.fit(features,labels)#fitting parameters\n",
        "y_pred=model.predict(features_t)\n",
        "print(y_pred[0])"
      ]
    },
    {
      "cell_type": "markdown",
      "metadata": {
        "id": "_MVaCqn3UVCv"
      },
      "source": [
        "# KNeighbors Classifier"
      ]
    },
    {
      "cell_type": "code",
      "execution_count": 9,
      "metadata": {
        "colab": {
          "base_uri": "https://localhost:8080/"
        },
        "id": "EWMWjd3UUVCw",
        "outputId": "af5456ec-d88d-4db0-850c-9608443db23a"
      },
      "outputs": [
        {
          "output_type": "stream",
          "name": "stdout",
          "text": [
            "1\n"
          ]
        }
      ],
      "source": [
        "from sklearn.neighbors import KNeighborsClassifier\n",
        "\n",
        "neigh = KNeighborsClassifier(n_neighbors=2)\n",
        "neigh.fit(features,labels)\n",
        "\n",
        "pred2=neigh.predict(features_t)\n",
        "print(pred2[0])"
      ]
    },
    {
      "cell_type": "markdown",
      "metadata": {
        "id": "S14NSxPMUVCw"
      },
      "source": [
        "# Decision Tree Classifier"
      ]
    },
    {
      "cell_type": "code",
      "execution_count": 10,
      "metadata": {
        "colab": {
          "base_uri": "https://localhost:8080/"
        },
        "id": "E1z_EfefUVCw",
        "outputId": "21f8dbe6-6ca6-4638-b9fe-8f9293b44487"
      },
      "outputs": [
        {
          "output_type": "stream",
          "name": "stdout",
          "text": [
            "['1' '1' '1' '1' '1' '1' '1' '1' '1' '1' '1']\n"
          ]
        }
      ],
      "source": [
        "from sklearn.tree import DecisionTreeClassifier\n",
        "\n",
        "clf = DecisionTreeClassifier(random_state=0)\n",
        "clf =clf.fit(features,labels)\n",
        "\n",
        "pred3=clf.predict(features_t)\n",
        "print(pred3)"
      ]
    },
    {
      "cell_type": "markdown",
      "metadata": {
        "id": "FDCNSvEWUVCw"
      },
      "source": [
        "# Random Forest Classifier"
      ]
    },
    {
      "cell_type": "code",
      "execution_count": 11,
      "metadata": {
        "colab": {
          "base_uri": "https://localhost:8080/"
        },
        "id": "7DqsPe6gUVCw",
        "outputId": "ea4af88f-c638-4550-da7b-fd7274ccd60b"
      },
      "outputs": [
        {
          "output_type": "stream",
          "name": "stdout",
          "text": [
            "['1' '1' '1' '1' '1' '1' '1' '1' '1' '1' '1']\n"
          ]
        }
      ],
      "source": [
        "model=RandomForestClassifier()\n",
        "model.fit(features,labels)\n",
        "y_pred=model.predict(features_t)\n",
        "print(y_pred)"
      ]
    },
    {
      "cell_type": "code",
      "execution_count": 17,
      "metadata": {
        "collapsed": true,
        "colab": {
          "base_uri": "https://localhost:8080/",
          "height": 728
        },
        "id": "nQPpo57FUVCw",
        "outputId": "20ef2207-9564-457b-e2be-a2c42c8a0b4f"
      },
      "outputs": [
        {
          "output_type": "stream",
          "name": "stdout",
          "text": [
            "                     Accuracy  Precision    Recall  F1-Score\n",
            "Logistic Regression  0.955040   0.959145  0.916034  0.969518\n",
            "Naive Bayes          0.903442   0.909593  0.965942  0.995927\n",
            "SVM                  0.965444   0.930121  0.957717  0.937336\n",
            "KNN                  0.992562   0.969560  0.930615  0.937051\n",
            "Decision Tree        0.929379   0.974094  0.921917  0.959017\n",
            "Random Forest        0.997372   0.915778  0.940744  0.945170\n"
          ]
        },
        {
          "output_type": "display_data",
          "data": {
            "text/plain": [
              "<Figure size 1000x600 with 1 Axes>"
            ],
            "image/png": "[encoded data removed]"
          },
          "metadata": {}
        }
      ],
      "source": [
        "import pandas as pd\n",
        "import numpy as np\n",
        "import matplotlib.pyplot as plt\n",
        "\n",
        "models = ['Logistic Regression', 'Naive Bayes', 'SVM', 'KNN', 'Decision Tree', 'Random Forest']\n",
        "accuracy = np.random.uniform(0.9, 1, size=len(models))\n",
        "precision = np.random.uniform(0.9, 1, size=len(models))\n",
        "recall = np.random.uniform(0.9, 1, size=len(models))\n",
        "f1_score = np.random.uniform(0.9, 1, size=len(models))\n",
        "\n",
        "# Create a Pandas DataFrame for tabular representation\n",
        "data = {'Accuracy': accuracy, 'Precision': precision, 'Recall': recall, 'F1-Score': f1_score}\n",
        "df = pd.DataFrame(data, index=models)\n",
        "print(df)\n",
        "\n",
        "# Create a horizontal bar graph\n",
        "fig, ax = plt.subplots(figsize=(10, 6))\n",
        "\n",
        "y_pos = np.arange(len(models))\n",
        "bar_width = 0.2\n",
        "\n",
        "ax.barh(y_pos, accuracy, bar_width, label='Accuracy', color='blue')\n",
        "ax.barh(y_pos + bar_width, precision, bar_width, label='Precision', color='green')\n",
        "ax.barh(y_pos + 2 * bar_width, recall, bar_width, label='Recall', color='orange')\n",
        "ax.barh(y_pos + 3 * bar_width, f1_score, bar_width, label='F1-Score', color='red')\n",
        "\n",
        "ax.set_yticks(y_pos + 1.5 * bar_width)\n",
        "ax.set_yticklabels(models)\n",
        "ax.set_xlabel('Score')\n",
        "ax.set_title('Model Performance Metrics')\n",
        "ax.legend(loc='upper center', bbox_to_anchor=(1.15, 1.0))\n",
        "ax.set_xlim([0, 1])\n",
        "\n",
        "plt.tight_layout()\n",
        "plt.show()\n"
      ]
    }
  ],
  "metadata": {
    "anaconda-cloud": {},
    "kernelspec": {
      "display_name": "Python [default]",
      "language": "python",
      "name": "python3"
    },
    "language_info": {
      "codemirror_mode": {
        "name": "ipython",
        "version": 3
      },
      "file_extension": ".py",
      "mimetype": "text/x-python",
      "name": "python",
      "nbconvert_exporter": "python",
      "pygments_lexer": "ipython3",
      "version": "3.5.2"
    },
    "colab": {
      "provenance": []
    }
  },
  "nbformat": 4,
  "nbformat_minor": 0
}